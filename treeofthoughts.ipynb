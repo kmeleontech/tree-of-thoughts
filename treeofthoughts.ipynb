{
 "cells": [
  {
   "cell_type": "markdown",
   "metadata": {},
   "source": [
    "### 1. Setup your .env file and install the requirements\n",
    "\n",
    "Create an .env file using the provided env.example file, and add your OpenAI API key\n",
    "\n",
    "Then, you can run the following cell to install the library requirements:"
   ]
  },
  {
   "cell_type": "code",
   "execution_count": null,
   "metadata": {
    "vscode": {
     "languageId": "shellscript"
    }
   },
   "outputs": [],
   "source": [
    "pip install -r requirements.txt"
   ]
  },
  {
   "cell_type": "markdown",
   "metadata": {},
   "source": [
    "### 2. Import the libraries"
   ]
  },
  {
   "cell_type": "code",
   "execution_count": 2,
   "metadata": {},
   "outputs": [
    {
     "data": {
      "text/plain": [
       "True"
      ]
     },
     "execution_count": 2,
     "metadata": {},
     "output_type": "execute_result"
    }
   ],
   "source": [
    "from langchain.chains import LLMChain\n",
    "from langchain.prompts import PromptTemplate\n",
    "from langchain_openai import ChatOpenAI\n",
    "from dotenv import load_dotenv\n",
    "import os\n",
    "\n",
    "load_dotenv()"
   ]
  },
  {
   "cell_type": "markdown",
   "metadata": {},
   "source": [
    "### 3. Create ToT prompt chain\n",
    "\n",
    "Step 1: Thought Decomposition (breaking down the problem)\n",
    "\n",
    "The goal in this step is to devide the prom into manegeable subproblems, each solved by generating a \"thought\"."
   ]
  },
  {
   "cell_type": "code",
   "execution_count": 34,
   "metadata": {},
   "outputs": [],
   "source": [
    "template = \"\"\"\n",
    "Step1:\n",
    "\n",
    "I'm facing the following challenge: \n",
    "\n",
    "{input}\n",
    "\n",
    "Could you help me brainstorm several diverse solutions?\n",
    "In your considerations, I encourage you to factor in a range of influential elements, such as {key_drivers}.\n",
    "\n",
    "Answer:\n",
    "\"\"\"\n",
    "\n",
    "prompt = PromptTemplate(\n",
    "    input_variables=[\"input\", \"key_drivers\"],\n",
    "    template = template\n",
    ")\n",
    "\n",
    "chain1 = LLMChain(\n",
    "    llm=ChatOpenAI(temperature=0.5, model_name=\"gpt-3.5-turbo\"),\n",
    "    prompt=prompt,\n",
    "    output_key=\"possible_solutions\"\n",
    ")\n"
   ]
  },
  {
   "cell_type": "markdown",
   "metadata": {},
   "source": [
    "Step 2: Thought Generator (creating potential solutions)\n",
    "\n",
    "The goal is to generate potential \"thoughts\" to be added to the current state (sequence of thoughts)"
   ]
  },
  {
   "cell_type": "code",
   "execution_count": 35,
   "metadata": {},
   "outputs": [],
   "source": [
    "template = \"\"\"\n",
    "Step 2:\n",
    "\n",
    "Weigh each solution's strengths, weaknesses, startup costs, implementation hurdles, potential roadblocks, and expected results. Then, assign a success probability and confidence level based on this analysis.\n",
    "\n",
    "Answer: {possible_solutions}\n",
    "\"\"\"\n",
    "\n",
    "prompt = PromptTemplate(\n",
    "    input_variables=[\"possible_solutions\"],\n",
    "    template = template\n",
    ")\n",
    "\n",
    "chain2 = LLMChain(\n",
    "    llm=ChatOpenAI(temperature=0.5, model_name=\"gpt-3.5-turbo\"),\n",
    "    prompt=prompt,\n",
    "    output_key=\"assessment\"\n",
    ")\n"
   ]
  },
  {
   "cell_type": "markdown",
   "metadata": {},
   "source": [
    "Step 3: State Evaluator (assessing potetial)\n",
    "\n",
    "The goal it to evaluate the quality and potential of different states (sequences of thoughts) for solving the problem."
   ]
  },
  {
   "cell_type": "code",
   "execution_count": 36,
   "metadata": {},
   "outputs": [],
   "source": [
    "template = \"\"\"\n",
    "Step 3:\n",
    "\n",
    "Dive deep into each solution!\n",
    "Imagine different scenarios it might create, plot out implementation strategies, identify crucial aspects and resources, and brainstorm ways to tackle potential problems.\n",
    "Don't forget to consider surprise twists and turns, and how we'd weather them gracefully.\n",
    "\n",
    "Answer: {assessment}\n",
    "\"\"\"\n",
    "\n",
    "prompt = PromptTemplate(\n",
    "    input_variables=[\"assessment\"],\n",
    "    template = template\n",
    ")\n",
    "\n",
    "chain3 = LLMChain(\n",
    "    llm=ChatOpenAI(temperature=0.5, model_name=\"gpt-3.5-turbo\"),\n",
    "    prompt=prompt,\n",
    "    output_key=\"intensify_reflection\"\n",
    ")\n"
   ]
  },
  {
   "cell_type": "markdown",
   "metadata": {},
   "source": [
    "Step 4: Search Algorithm (finding the best solution)\n",
    "\n",
    "The goal is to explore the search space of possible states (thought tree) and find the optimal solution."
   ]
  },
  {
   "cell_type": "code",
   "execution_count": 37,
   "metadata": {},
   "outputs": [],
   "source": [
    "template = \"\"\"\n",
    "Step 4:\n",
    "Armed with our evaluations and scenario simulations, let's rank these solutions! Each ranking demands a rock-solid justification.\n",
    "And before we crown the champion, let's give each contender a final once-over, unearthing any lingering doubts or hidden potential.\n",
    "\n",
    "Answer: {intensify_reflection}\n",
    "\"\"\"\n",
    "\n",
    "prompt = PromptTemplate(\n",
    "    input_variables=[\"intensify_reflection\"],\n",
    "    template=template\n",
    ")\n",
    "\n",
    "chain4 = LLMChain(\n",
    "    llm=ChatOpenAI(temperature=0.5, model_name=\"gpt-3.5-turbo\"),\n",
    "    prompt=prompt,\n",
    "    output_key=\"graded_possibilities\"\n",
    ")\n"
   ]
  },
  {
   "cell_type": "markdown",
   "metadata": {},
   "source": [
    "Put the overall chain together. We'll employ the 'SequentialChain' component to seamlessly integrate the four chains, ensuring that the output of one chain serves as the input for the subsequent chain. "
   ]
  },
  {
   "cell_type": "code",
   "execution_count": 38,
   "metadata": {},
   "outputs": [
    {
     "name": "stdout",
     "output_type": "stream",
     "text": [
      "\n",
      "\n",
      "\u001b[1m> Entering new SequentialChain chain...\u001b[0m\n",
      "\n",
      "\u001b[1m> Finished chain.\u001b[0m\n"
     ]
    }
   ],
   "source": [
    "from langchain.chains import SequentialChain\n",
    "\n",
    "overall_chain = SequentialChain(\n",
    "    chains=[chain1, chain2, chain3, chain4],\n",
    "    input_variables=[\"input\", \"key_drivers\"],\n",
    "    output_variables=[\"graded_possibilities\"],\n",
    "    verbose=True\n",
    ")\n",
    "\n",
    "input = \"\"\"\n",
    "A city's government is facing challenges with its current transportation system, which is causing increased traffic congestion, pollution, and dissatisfaction among residents. The city aims to transition to a more sustainable, efficient, and user-friendly transportation system. This project involves multiple stakeholders, including city planners, transportation companies, environmental groups, and the public.\n",
    "\n",
    "I need to develop a comprehensive plan for a sustainable urban transportation system that reduces congestion and pollution, improves accessibility and convenience for all residents, and is economically viable and scalable.\n",
    "\"\"\"\n",
    "\n",
    "answer = overall_chain.invoke({\n",
    "    \"input\": input,\n",
    "    \"key_drivers\": \"infrastructure, traffic, public transit, non-motorized transport, policy and regulation, community engagement\"\n",
    "})\n"
   ]
  },
  {
   "cell_type": "code",
   "execution_count": 39,
   "metadata": {},
   "outputs": [
    {
     "name": "stdout",
     "output_type": "stream",
     "text": [
      "Ranking of solutions:\n",
      "\n",
      "1. Non-motorized transport options: This solution not only addresses transportation issues but also promotes healthier lifestyles and reduces carbon emissions. It is a sustainable and cost-effective option that can have a significant impact on the overall urban environment.\n",
      "\n",
      "2. Smart traffic management systems: Implementing smart traffic management systems can greatly improve traffic flow, reduce travel times, and enhance road safety. This solution is practical and efficient in optimizing transportation systems.\n",
      "\n",
      "3. Comprehensive public transportation system: While expanding public transportation networks is essential for reducing traffic congestion and emissions, it may require significant investment and time to implement. However, it remains a crucial aspect of sustainable urban transportation.\n",
      "\n",
      "4. Carpooling and ridesharing initiatives: Encouraging carpooling and ridesharing can help reduce the number of single-occupancy vehicles on the road, but it may face challenges in terms of changing individual behavior and preferences.\n",
      "\n",
      "5. Stricter regulations on emissions and electric vehicles: Transitioning to cleaner and greener transportation is vital for reducing air pollution and dependence on fossil fuels. However, the success of this solution may depend on the availability and affordability of electric vehicles and charging infrastructure.\n",
      "\n",
      "6. Infrastructure improvements: Investing in infrastructure upgrades is necessary for enhancing connectivity and accessibility. While this solution may not directly address transportation issues, it can contribute to creating a more sustainable and resilient urban environment.\n",
      "\n",
      "7. Community engagement: Involving residents in decision-making processes is crucial for ensuring inclusive and sustainable transportation solutions. However, community engagement may require time and effort to build trust and collaboration among stakeholders.\n",
      "\n",
      "8. Policy implementation: Enacting and enforcing policies that support sustainable transportation practices is essential for achieving long-term goals. However, policy implementation may face challenges in terms of coordination and enforcement across different government agencies and stakeholders.\n",
      "\n",
      "Overall, non-motorized transport options, smart traffic management systems, and a comprehensive public transportation system are the top-ranking solutions based on their potential impact, feasibility, and sustainability. However, a combination of multiple solutions may be necessary to address the complex challenges of urban transportation effectively.\n"
     ]
    }
   ],
   "source": [
    "print(answer['graded_possibilities'])"
   ]
  },
  {
   "cell_type": "code",
   "execution_count": null,
   "metadata": {},
   "outputs": [],
   "source": []
  }
 ],
 "metadata": {
  "kernelspec": {
   "display_name": "venv",
   "language": "python",
   "name": "python3"
  },
  "language_info": {
   "codemirror_mode": {
    "name": "ipython",
    "version": 3
   },
   "file_extension": ".py",
   "mimetype": "text/x-python",
   "name": "python",
   "nbconvert_exporter": "python",
   "pygments_lexer": "ipython3",
   "version": "3.10.13"
  }
 },
 "nbformat": 4,
 "nbformat_minor": 2
}
